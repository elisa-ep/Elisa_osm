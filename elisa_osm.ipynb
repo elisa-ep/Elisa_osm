{
 "cells": [
  {
   "cell_type": "code",
   "execution_count": 1,
   "metadata": {},
   "outputs": [
    {
     "name": "stdout",
     "output_type": "stream",
     "text": [
      "Ingrese el nombre del archivo del que desea extraer: materiales.osm\n",
      "Ingrese el nombre del archivo que desea crear con los objetos materiales: resultado.osm\n"
     ]
    }
   ],
   "source": [
    "def separa( entrada, salida):\n",
    "\n",
    "    rawlist = open(entrada, 'r').read().splitlines()\n",
    "\n",
    "    l_output = []\n",
    "    bandera = False\n",
    "\n",
    "    for linea in rawlist:\n",
    "\n",
    "        if linea == 'OS:Material,':\n",
    "\n",
    "            l_output.append(linea)\n",
    "            bandera = True\n",
    "\n",
    "        else:\n",
    "\n",
    "            if bandera == True:\n",
    "\n",
    "                if linea.find('OS:') >= 0:\n",
    "\n",
    "                    bandera = False\n",
    "\n",
    "                else:\n",
    "                    l_output.append(linea)\n",
    "\n",
    "            else:\n",
    "                pass\n",
    "\n",
    "    f = open(salida, 'w')\n",
    "    s = '\\n'.join(l_output)\n",
    "    f.write(s)\n",
    "    f.close()\n",
    "\n",
    "\n",
    "inputfile = str(input(\"Ingrese el nombre del archivo del que desea extraer: \"))\n",
    "outputfile = str(input(\"Ingrese el nombre del archivo que desea crear con los objetos materiales: \"))\n",
    "separa(inputfile, outputfile)"
   ]
  }
 ],
 "metadata": {
  "kernelspec": {
   "display_name": "Python 3",
   "language": "python",
   "name": "python3"
  },
  "language_info": {
   "codemirror_mode": {
    "name": "ipython",
    "version": 3
   },
   "file_extension": ".py",
   "mimetype": "text/x-python",
   "name": "python",
   "nbconvert_exporter": "python",
   "pygments_lexer": "ipython3",
   "version": "3.8.7"
  }
 },
 "nbformat": 4,
 "nbformat_minor": 4
}
